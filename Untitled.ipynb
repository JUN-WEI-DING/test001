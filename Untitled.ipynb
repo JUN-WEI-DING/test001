{
 "cells": [
  {
   "cell_type": "code",
   "execution_count": 1,
   "id": "a335f3f7-a241-4a4e-a386-0d161e91783f",
   "metadata": {},
   "outputs": [],
   "source": [
    "import os\n",
    "import subprocess\n"
   ]
  },
  {
   "cell_type": "code",
   "execution_count": null,
   "id": "859a91df-dba5-4389-974b-66903192f7c7",
   "metadata": {},
   "outputs": [],
   "source": [
    "# 爬取資料並儲存\n",
    "def scrape_data():\n",
    "    # 實作爬蟲邏輯\n",
    "    with open('data.txt', 'w') as file:\n",
    "        file.write('Scraped data here')"
   ]
  },
  {
   "cell_type": "code",
   "execution_count": 1,
   "id": "9dbb9825-e077-4cd5-b962-8cda9e022481",
   "metadata": {},
   "outputs": [],
   "source": [
    "# 執行 Git 命令進行自動化操作\n",
    "def git_push():\n",
    "    repo_dir = 'C:/Users/GaryDing/jupyter notebook/test'  # 指定你本地 repo 的路徑\n",
    "    os.chdir(repo_dir)\n",
    "    \n",
    "    # 使用 subprocess 執行 Git 命令\n",
    "    subprocess.run(['git', 'add', '.'])\n",
    "    subprocess.run(['git', 'commit', '-m', 'Auto commit scraped data'])\n",
    "    subprocess.run(['git', 'push', 'origin', 'main'])\n",
    "\n",
    "if __name__ == \"__main__\":\n",
    "    scrape_data()  # 執行爬蟲\n",
    "    git_push()     # 自動 push 到 repo"
   ]
  }
 ],
 "metadata": {
  "kernelspec": {
   "display_name": "Python 3 (ipykernel)",
   "language": "python",
   "name": "python3"
  },
  "language_info": {
   "codemirror_mode": {
    "name": "ipython",
    "version": 3
   },
   "file_extension": ".py",
   "mimetype": "text/x-python",
   "name": "python",
   "nbconvert_exporter": "python",
   "pygments_lexer": "ipython3",
   "version": "3.11.7"
  }
 },
 "nbformat": 4,
 "nbformat_minor": 5
}
